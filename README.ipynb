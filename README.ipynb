{
 "cells": [
  {
   "cell_type": "markdown",
   "metadata": {},
   "source": [
    "# Proposal – Walmart Sales Forecasting"
   ]
  },
  {
   "cell_type": "markdown",
   "metadata": {},
   "source": [
    "**Problem:**  \n",
    "Walmart is a multinational retail corporation that operates globally. Walmart runs several promotional markdown events throughout the year. These markdowns precede prominent holidays, the four largest of which are the Super Bowl, Labor Day, Thanksgiving, and Christmas. The weeks including these holidays are weighted five times higher in the evaluation than non-holiday weeks. Walmart would like to forecast sales data by store and department using historical store sales data for 45 Walmart stores.\n"
   ]
  },
  {
   "cell_type": "markdown",
   "metadata": {},
   "source": [
    "**Client:**  \n",
    "Walmart is the client. Based on forecast sales, Walmart will determine if more employees are needed during high sales days. Also, the analysis will help Walmart determine if additional resources should be allocated to the departments that have low sales."
   ]
  },
  {
   "cell_type": "markdown",
   "metadata": {},
   "source": [
    "**Data:**  \n",
    "Historical data is obtained from 45 Walmart stores without geographic information. Only store features, store types, historical sales data (train data set) and test data set (for predictions and final deliverable) are provided. Data is acquired through Kaggle (https://www.kaggle.com/c/walmart-recruiting-store-sales-forecasting)."
   ]
  },
  {
   "cell_type": "markdown",
   "metadata": {},
   "source": [
    "**Approach to Solving Problem:**  \n",
    "The tool used to solve this problem is Jupyter and the scripting language is Python.  Jupyter notebook and Python will be used for data analysis, data discovery, visualization, and determining the best fit time series model. The following is an approach to solving the problem: \n",
    "\n",
    "    1)Exploratory analysis  \n",
    "        a. Data Pre-processing \n",
    "        b. Visualize the data to discover trends  \n",
    "        c. Determine subset to use for training the model  \n",
    "    2) Test Harness  \n",
    "        a. Partition Dataset into Training & Validation  \n",
    "        b. Determine Model Evaluation and Metrics  \n",
    "            - weighted mean absolute error (WMAE)   \n",
    "    3) Persistence Model – establish a baseline of performance measure by which all more predictive models can be compared  \n",
    "    4) Model Selection and Fitting – data is fitted to each model and residual errors reviewed   \n",
    "        a. AR Model (Autoregression)  \n",
    "        b. MA Model (Moving Average)  \t\t\n",
    "        c. ARIMA Model (Autoregressive Integrated Moving Average)  \n",
    "        d. SARIMA Model (Seasonal Autoregressive Integrated Moving Average Model)  \n",
    "    5) Model Evaluation – Determine best model using WMAE  \n",
    "    6) Model Validation  \n",
    "        a. Finalize Model - train and save the final model  \n",
    "        b. Make Prediction - load the finalized model and make a prediction  \n",
    "        c. Validate Model - load and validate the final model  \n",
    "    7) Prepare the results of the final model for delivery  "
   ]
  },
  {
   "cell_type": "markdown",
   "metadata": {},
   "source": [
    "**Deliverables:**  \n",
    "The test dataset will contain the weekly sales prediction by store and department.   \n",
    "\n",
    "For each row in the test set (store + department + date triplet), the weekly sales of that department should be predicted. The file should have a header and looks like the following:  \n",
    "\n",
    "        Id,Weekly_Sales  \n",
    "        1_1_2012-11-02,0  \n",
    "        1_1_2012-11-09,0  \n",
    "        1_1_2012-11-16,0  "
   ]
  }
 ],
 "metadata": {
  "kernelspec": {
   "display_name": "Python 3",
   "language": "python",
   "name": "python3"
  },
  "language_info": {
   "codemirror_mode": {
    "name": "ipython",
    "version": 3
   },
   "file_extension": ".py",
   "mimetype": "text/x-python",
   "name": "python",
   "nbconvert_exporter": "python",
   "pygments_lexer": "ipython3",
   "version": "3.5.2"
  }
 },
 "nbformat": 4,
 "nbformat_minor": 1
}
